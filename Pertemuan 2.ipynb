{
 "cells": [
  {
   "cell_type": "markdown",
   "id": "f27ee9c6",
   "metadata": {},
   "source": [
    "# Conditional"
   ]
  },
  {
   "cell_type": "code",
   "execution_count": 1,
   "id": "56ea78f6",
   "metadata": {},
   "outputs": [],
   "source": [
    "### Conditional ###\n",
    "# python mendukung logical conditions yang biasa dipakai dalam matematika:\n",
    "# Equals: a == b\n",
    "# Not Equals a != b\n",
    "# Less than: a < b\n",
    "# Greater than: a > b\n",
    "# Greater than or equal to: a >= b\n",
    "# These conditions can be used in several ways, most commonly in \"if statement\" and loops.\n",
    "## Sebuah \"if statement\" ditulis dengan menggunakan if keyword.\n",
    "## Dalam program Python, if statement adalah bagaimana kalian melakukan decision-making."
   ]
  },
  {
   "cell_type": "markdown",
   "id": "001779c3",
   "metadata": {},
   "source": [
    "# Introduction to the if Statement"
   ]
  },
  {
   "cell_type": "code",
   "execution_count": 2,
   "id": "b583207b",
   "metadata": {},
   "outputs": [
    {
     "name": "stdout",
     "output_type": "stream",
     "text": [
      "yes\n",
      "yes\n",
      "yes\n"
     ]
    }
   ],
   "source": [
    "# if <expr>:\n",
    "#    <statement>\n",
    "    \n",
    "x = 0\n",
    "y = 5\n",
    "if x < y:       #Truthy\n",
    "    print('yes')\n",
    "\n",
    "if y < x:       #Falsy\n",
    "    print('yes')\n",
    "\n",
    "if x:           #Falsy\n",
    "    print('yes')\n",
    "\n",
    "if y:           #Truthy\n",
    "    print('yes')\n",
    "    \n",
    "if 'aul' in 'grault':    #Truthy\n",
    "    print('yes')\n",
    "    \n",
    "if 'quux' in ['foo', 'bar', 'baz']:     #Falsy\n",
    "    print('yes')"
   ]
  },
  {
   "cell_type": "markdown",
   "id": "65508c63",
   "metadata": {},
   "source": [
    "# Grouping Statements: Indentation and Blocks"
   ]
  },
  {
   "cell_type": "code",
   "execution_count": 3,
   "id": "eb7ee171",
   "metadata": {},
   "outputs": [],
   "source": [
    "# if <expr>:\n",
    "#     <statement>\n",
    "#     <statement>\n",
    "#     ...\n",
    "#     <statement>\n",
    "#   <following_statement>"
   ]
  },
  {
   "cell_type": "code",
   "execution_count": 4,
   "id": "a5a89473",
   "metadata": {},
   "outputs": [
    {
     "name": "stdout",
     "output_type": "stream",
     "text": [
      "After conditional\n"
     ]
    }
   ],
   "source": [
    "if 'foo' in ['bar', 'baz', 'qux']:\n",
    "    print('Expression was true')\n",
    "    print('Executing statement in suite')\n",
    "    print('...')\n",
    "    print('Done.')\n",
    "    \n",
    "print('After conditional')"
   ]
  },
  {
   "cell_type": "code",
   "execution_count": 5,
   "id": "8fa8f1f3",
   "metadata": {},
   "outputs": [
    {
     "name": "stdout",
     "output_type": "stream",
     "text": [
      "Outer condition is true\n",
      "Between inner condition\n",
      "Inner condition 2\n",
      "End of outer condition\n",
      "After outer condition\n"
     ]
    }
   ],
   "source": [
    "# Does line execute?\n",
    "#                                          Yes    No\n",
    "if 'foo' in ['foo', 'bar', 'baz']:       #  x     \n",
    "    print('Outer condition is true')     #  x\n",
    "    \n",
    "    if 10 > 20:                          #  x\n",
    "        print('Inner condition 1')       #        x\n",
    "    \n",
    "    print('Between inner condition')     #  x\n",
    "    \n",
    "    if 10 < 20:                          #  x\n",
    "        print('Inner condition 2')       #  x\n",
    "    \n",
    "    print('End of outer condition')      #  x\n",
    "print('After outer condition')           #  x"
   ]
  },
  {
   "cell_type": "markdown",
   "id": "b5e2ab4c",
   "metadata": {},
   "source": [
    "# The else and elif Clauses"
   ]
  },
  {
   "cell_type": "code",
   "execution_count": 6,
   "id": "db8ab7c9",
   "metadata": {},
   "outputs": [],
   "source": [
    "# if <expr>:\n",
    "#     <statement(s)>\n",
    "# else:\n",
    "#     <statement(s)>"
   ]
  },
  {
   "cell_type": "code",
   "execution_count": 7,
   "id": "9096b919",
   "metadata": {},
   "outputs": [
    {
     "name": "stdout",
     "output_type": "stream",
     "text": [
      "(first suite)\n",
      "x is small\n"
     ]
    }
   ],
   "source": [
    "x = 20\n",
    "\n",
    "if x < 50:\n",
    "    print('(first suite)')\n",
    "    print('x is small')\n",
    "else:\n",
    "    print('(second suite)')\n",
    "    print('x is large')"
   ]
  },
  {
   "cell_type": "code",
   "execution_count": 8,
   "id": "2138c410",
   "metadata": {},
   "outputs": [
    {
     "name": "stdout",
     "output_type": "stream",
     "text": [
      "(second suite)\n",
      "x is large\n"
     ]
    }
   ],
   "source": [
    "x = 120\n",
    "\n",
    "if x < 50:\n",
    "    print('(first suite)')\n",
    "    print('x is small')\n",
    "else:\n",
    "    print('(second suite)')\n",
    "    print('x is large')"
   ]
  },
  {
   "cell_type": "code",
   "execution_count": 9,
   "id": "5b6ff579",
   "metadata": {},
   "outputs": [
    {
     "name": "stdout",
     "output_type": "stream",
     "text": [
      "uang tidak cukup\n"
     ]
    }
   ],
   "source": [
    "hargaBuku = 20000\n",
    "hargaMajalah = 5000\n",
    "uang = 2000\n",
    "\n",
    "if uang > hargaBuku:\n",
    "    print(\"beli buku\")\n",
    "else:\n",
    "    print(\"uang tidak cukup\")"
   ]
  },
  {
   "cell_type": "code",
   "execution_count": 10,
   "id": "380088ce",
   "metadata": {},
   "outputs": [
    {
     "name": "stdout",
     "output_type": "stream",
     "text": [
      "Hello Hacktiv8\n"
     ]
    }
   ],
   "source": [
    "name = 'Hacktiv8'\n",
    "if name == 'Fred':\n",
    "    print('Hello Fred')\n",
    "elif name == 'Xander':\n",
    "    print('Hello Xander')\n",
    "elif name == 'Hacktiv8':\n",
    "    print('Hello Hacktiv8')\n",
    "elif name == 'Arnold':\n",
    "    print('Hello Arnold')\n",
    "else:\n",
    "    print(\"I don't know who you are!\")"
   ]
  },
  {
   "cell_type": "code",
   "execution_count": 11,
   "id": "2fb67acb",
   "metadata": {},
   "outputs": [
    {
     "name": "stdout",
     "output_type": "stream",
     "text": [
      "foo\n"
     ]
    }
   ],
   "source": [
    "if 'a' in 'bar':\n",
    "    print('foo')\n",
    "elif 1/0:\n",
    "    print(\"This won't happen\")\n",
    "elif var:\n",
    "    print(\"This won't either\")"
   ]
  },
  {
   "cell_type": "markdown",
   "id": "5a90ef82",
   "metadata": {},
   "source": [
    "# One-Line if Statement"
   ]
  },
  {
   "cell_type": "code",
   "execution_count": 12,
   "id": "ad319053",
   "metadata": {},
   "outputs": [],
   "source": [
    "# if <expr>:\n",
    "#     <statement>"
   ]
  },
  {
   "cell_type": "code",
   "execution_count": 13,
   "id": "12a0fd8f",
   "metadata": {},
   "outputs": [
    {
     "name": "stdout",
     "output_type": "stream",
     "text": [
      "1\n",
      "2\n",
      "3\n"
     ]
    }
   ],
   "source": [
    "if 'f' in 'foo': print('1'); print('2'); print('3')"
   ]
  },
  {
   "cell_type": "code",
   "execution_count": 14,
   "id": "10cea479",
   "metadata": {},
   "outputs": [],
   "source": [
    "if 'z' in 'foo': print('1'); print('2'); print('3')"
   ]
  },
  {
   "cell_type": "code",
   "execution_count": 15,
   "id": "ae14d859",
   "metadata": {},
   "outputs": [
    {
     "name": "stdout",
     "output_type": "stream",
     "text": [
      "qux\n",
      "quux\n"
     ]
    }
   ],
   "source": [
    "x = 2\n",
    "\n",
    "if x == 1: print('foo'); print('bar'); print('baz')\n",
    "elif x == 2: print('qux'); print('quux')\n",
    "else: print('corge'); print('grault')"
   ]
  },
  {
   "cell_type": "code",
   "execution_count": 16,
   "id": "23477335",
   "metadata": {},
   "outputs": [
    {
     "name": "stdout",
     "output_type": "stream",
     "text": [
      "corge\n",
      "grault\n"
     ]
    }
   ],
   "source": [
    "x = 3\n",
    "\n",
    "if x == 1: print('foo'); print('bar'); print('baz')\n",
    "elif x == 2: print('qux'); print('quux')\n",
    "else: print('corge'); print('grault')"
   ]
  },
  {
   "cell_type": "code",
   "execution_count": 17,
   "id": "fa3dff02",
   "metadata": {},
   "outputs": [
    {
     "name": "stdout",
     "output_type": "stream",
     "text": [
      "corge\n",
      "grault\n"
     ]
    }
   ],
   "source": [
    "x = 3\n",
    "\n",
    "if x == 1: \n",
    "    print('foo') \n",
    "    print('bar') \n",
    "    print('baz')\n",
    "elif x == 2: \n",
    "    print('qux')\n",
    "    print('quux')\n",
    "else: \n",
    "    print('corge')\n",
    "    print('grault')"
   ]
  },
  {
   "cell_type": "markdown",
   "id": "a11f19d1",
   "metadata": {},
   "source": [
    "# Conditional Expressions (Python's Ternary Operator)"
   ]
  },
  {
   "cell_type": "code",
   "execution_count": 18,
   "id": "eac5737d",
   "metadata": {},
   "outputs": [],
   "source": [
    "# <expr1> if <conditional expr> else <expr2>"
   ]
  },
  {
   "cell_type": "code",
   "execution_count": 19,
   "id": "fcb012a9",
   "metadata": {},
   "outputs": [
    {
     "name": "stdout",
     "output_type": "stream",
     "text": [
      "Let's go to the beach\n"
     ]
    }
   ],
   "source": [
    "raining = False\n",
    "print(\"Let's go to the\", 'beach' if not raining else 'library')"
   ]
  },
  {
   "cell_type": "code",
   "execution_count": 20,
   "id": "c7541de0",
   "metadata": {},
   "outputs": [
    {
     "name": "stdout",
     "output_type": "stream",
     "text": [
      "Let's go to the library\n"
     ]
    }
   ],
   "source": [
    "raining = True\n",
    "print(\"Let's go to the\", 'beach' if not raining else 'library')"
   ]
  },
  {
   "cell_type": "code",
   "execution_count": 21,
   "id": "60fd9d61",
   "metadata": {},
   "outputs": [
    {
     "data": {
      "text/plain": [
       "'teen'"
      ]
     },
     "execution_count": 21,
     "metadata": {},
     "output_type": "execute_result"
    }
   ],
   "source": [
    "age = 12\n",
    "s = 'teen' if age < 21 else 'adult'\n",
    "s"
   ]
  },
  {
   "cell_type": "code",
   "execution_count": 22,
   "id": "ec3f5ab5",
   "metadata": {},
   "outputs": [
    {
     "data": {
      "text/plain": [
       "'no'"
      ]
     },
     "execution_count": 22,
     "metadata": {},
     "output_type": "execute_result"
    }
   ],
   "source": [
    "'yes' if ('qux' in ['foo', 'bar', 'bazz']) else 'no'"
   ]
  },
  {
   "cell_type": "code",
   "execution_count": 23,
   "id": "563fe96d",
   "metadata": {},
   "outputs": [],
   "source": [
    "# if a > b:\n",
    "#    m = a\n",
    "# else:\n",
    "#    m = b"
   ]
  },
  {
   "cell_type": "markdown",
   "id": "c9784573",
   "metadata": {},
   "source": [
    "# The Python pass Statement"
   ]
  },
  {
   "cell_type": "code",
   "execution_count": 24,
   "id": "4a2f3c9e",
   "metadata": {},
   "outputs": [
    {
     "name": "stdout",
     "output_type": "stream",
     "text": [
      "foo\n"
     ]
    }
   ],
   "source": [
    "if True:\n",
    "    print('foo')"
   ]
  },
  {
   "cell_type": "code",
   "execution_count": 25,
   "id": "9f370a92",
   "metadata": {},
   "outputs": [
    {
     "ename": "SyntaxError",
     "evalue": "invalid syntax (2349386758.py, line 1)",
     "output_type": "error",
     "traceback": [
      "\u001b[1;36m  Input \u001b[1;32mIn [25]\u001b[1;36m\u001b[0m\n\u001b[1;33m    File \"foo.py\", line 3\u001b[0m\n\u001b[1;37m         ^\u001b[0m\n\u001b[1;31mSyntaxError\u001b[0m\u001b[1;31m:\u001b[0m invalid syntax\n"
     ]
    }
   ],
   "source": [
    "File \"foo.py\", line 3\n",
    "print('foo')"
   ]
  },
  {
   "cell_type": "code",
   "execution_count": 26,
   "id": "03aefb33",
   "metadata": {},
   "outputs": [
    {
     "name": "stdout",
     "output_type": "stream",
     "text": [
      "foo\n"
     ]
    }
   ],
   "source": [
    "if True:\n",
    "    pass\n",
    "print('foo')"
   ]
  },
  {
   "cell_type": "markdown",
   "id": "dbe1802a",
   "metadata": {},
   "source": [
    "# Python \"while\" Loops"
   ]
  },
  {
   "cell_type": "code",
   "execution_count": 27,
   "id": "ce74b0eb",
   "metadata": {},
   "outputs": [],
   "source": [
    "# while <expr>:\n",
    "#     <statement(s)>"
   ]
  },
  {
   "cell_type": "code",
   "execution_count": 28,
   "id": "cdb2d164",
   "metadata": {},
   "outputs": [
    {
     "name": "stdout",
     "output_type": "stream",
     "text": [
      "4\n",
      "3\n",
      "2\n",
      "1\n",
      "0\n"
     ]
    }
   ],
   "source": [
    "n = 5\n",
    "while n > 0:\n",
    "    n -= 1\n",
    "    print(n)"
   ]
  },
  {
   "cell_type": "code",
   "execution_count": 29,
   "id": "5c1e1f71",
   "metadata": {},
   "outputs": [
    {
     "name": "stdout",
     "output_type": "stream",
     "text": [
      "1\n",
      "2\n",
      "3\n",
      "4\n",
      "5\n"
     ]
    }
   ],
   "source": [
    "i = 1\n",
    "while i < 6:\n",
    "    print(i)\n",
    "    i += 1"
   ]
  },
  {
   "cell_type": "markdown",
   "id": "8bbaf90f",
   "metadata": {},
   "source": [
    "# The Python break and continue Statements"
   ]
  },
  {
   "cell_type": "code",
   "execution_count": 30,
   "id": "ffe7d9f2",
   "metadata": {},
   "outputs": [],
   "source": [
    "# while <expr>\n",
    "#     <statement>\n",
    "#     <statement>\n",
    "#      break\n",
    "#     <statement>\n",
    "#     <statement>\n",
    "#      continue\n",
    "#     <statement>\n",
    "#     <statement>\n",
    "\n",
    "# <statement>"
   ]
  },
  {
   "cell_type": "code",
   "execution_count": 31,
   "id": "9c5fe16e",
   "metadata": {},
   "outputs": [
    {
     "name": "stdout",
     "output_type": "stream",
     "text": [
      "4\n",
      "3\n",
      "Loop ended.\n"
     ]
    }
   ],
   "source": [
    "n = 5\n",
    "while n > 0:\n",
    "    n -= 1\n",
    "    if n == 2:\n",
    "        break  # Break Statement\n",
    "    print(n)\n",
    "print('Loop ended.')"
   ]
  },
  {
   "cell_type": "markdown",
   "id": "1ffde6f2",
   "metadata": {},
   "source": [
    "# The else Clause"
   ]
  },
  {
   "cell_type": "code",
   "execution_count": 32,
   "id": "b4e7fbaa",
   "metadata": {},
   "outputs": [],
   "source": [
    "# while <expr>:\n",
    "#     <statement(s)>\n",
    "# else:\n",
    "#     <additional_statement(s)>"
   ]
  },
  {
   "cell_type": "code",
   "execution_count": 33,
   "id": "98fd65f7",
   "metadata": {},
   "outputs": [
    {
     "name": "stdout",
     "output_type": "stream",
     "text": [
      "4\n",
      "3\n",
      "2\n",
      "1\n",
      "0\n",
      "Loop done.\n"
     ]
    }
   ],
   "source": [
    "n = 5\n",
    "while n > 0:\n",
    "    n -= 1\n",
    "    print(n)\n",
    "else:\n",
    "    print('Loop done.')"
   ]
  },
  {
   "cell_type": "code",
   "execution_count": 34,
   "id": "64383f14",
   "metadata": {},
   "outputs": [
    {
     "name": "stdout",
     "output_type": "stream",
     "text": [
      "4\n",
      "3\n",
      "2\n"
     ]
    }
   ],
   "source": [
    "n = 5\n",
    "while n > 0:\n",
    "    n -= 1\n",
    "    print(n)\n",
    "    if n == 2:\n",
    "        break\n",
    "else:\n",
    "    print('Loop done.')"
   ]
  },
  {
   "cell_type": "markdown",
   "id": "32e426d4",
   "metadata": {},
   "source": [
    "# Infinite Loops"
   ]
  },
  {
   "cell_type": "code",
   "execution_count": 35,
   "id": "174e935e",
   "metadata": {},
   "outputs": [],
   "source": [
    "# while True:\n",
    "#     print('foo')"
   ]
  },
  {
   "cell_type": "markdown",
   "id": "b1037f67",
   "metadata": {},
   "source": [
    "# Nested while Loops"
   ]
  },
  {
   "cell_type": "code",
   "execution_count": 36,
   "id": "9cdc85bf",
   "metadata": {},
   "outputs": [
    {
     "name": "stdout",
     "output_type": "stream",
     "text": [
      "mother\n"
     ]
    }
   ],
   "source": [
    "# struktur kontrol Python dapat di-nest satu sama lain. Misalnya if/elif/else.\n",
    "\n",
    "age = 20\n",
    "gender = 'F'\n",
    "\n",
    "if age < 18:\n",
    "    if gender == 'M':\n",
    "        print('son')\n",
    "    else:\n",
    "        print('daughter')\n",
    "elif age >= 18 and age < 65:\n",
    "    if gender == 'M':\n",
    "        print('father')\n",
    "    else:\n",
    "        print('mother')\n",
    "else:\n",
    "    if gender == 'M':\n",
    "        print('grandfather')\n",
    "    else:\n",
    "        print('grandmother')\n",
    "        "
   ]
  },
  {
   "cell_type": "code",
   "execution_count": 37,
   "id": "1f690d44",
   "metadata": {},
   "outputs": [
    {
     "name": "stdout",
     "output_type": "stream",
     "text": [
      "foo\n",
      "> baz\n",
      "> qux\n",
      "bar\n",
      "> baz\n",
      "> qux\n"
     ]
    }
   ],
   "source": [
    "# loop while dapat dimuat dalam loop while lainnya, seperti berikut ini:\n",
    "\n",
    "a = ['foo', 'bar']\n",
    "\n",
    "while len(a):\n",
    "    print(a.pop(0))\n",
    "    \n",
    "    b = ['baz', 'qux']\n",
    "    \n",
    "    while len(b):\n",
    "        print('>', b.pop(0))"
   ]
  },
  {
   "cell_type": "code",
   "execution_count": 38,
   "id": "48750604",
   "metadata": {},
   "outputs": [],
   "source": [
    "## Break atau continue statement yang ditemukan dalam nested loop berlaku untuk loop terdekat:\n",
    "\n",
    "# while <expr1>:\n",
    "#    statement\n",
    "#    statement\n",
    "    \n",
    "#    while <expr2>:\n",
    "#        statement\n",
    "#        statement\n",
    "#        break  # Applies to while <expr2>: loop\n",
    "        \n",
    "#    break  # Applies to while <expr1>: loop"
   ]
  },
  {
   "cell_type": "code",
   "execution_count": 39,
   "id": "81098760",
   "metadata": {},
   "outputs": [],
   "source": [
    "## Selain itu, while loop dapat ditempatkan di dalam pernyataan if/elif/else, dan sebaliknya:\n",
    "\n",
    "# if <expr>:\n",
    "#     statement\n",
    "#     while <expr>:\n",
    "#         statement\n",
    "#         statement\n",
    "# else:\n",
    "#     while <expr>:\n",
    "#         statement\n",
    "#         statement\n",
    "#     statement\n",
    "# while <expr>:\n",
    "#     if <expr>:\n",
    "#         statement\n",
    "#     elif <expr>:\n",
    "#         statement\n",
    "#     else:\n",
    "#         statement\n",
    "\n",
    "#     if <expr>:\n",
    "#         statement"
   ]
  },
  {
   "cell_type": "markdown",
   "id": "48bc4164",
   "metadata": {},
   "source": [
    "# One-Line while Loops"
   ]
  },
  {
   "cell_type": "code",
   "execution_count": 40,
   "id": "0d4b1d3f",
   "metadata": {},
   "outputs": [
    {
     "name": "stdout",
     "output_type": "stream",
     "text": [
      "4\n",
      "3\n",
      "2\n",
      "1\n",
      "0\n"
     ]
    }
   ],
   "source": [
    "n = 5\n",
    "while n > 0: n -= 1; print(n)"
   ]
  },
  {
   "cell_type": "markdown",
   "id": "0dd9c9e5",
   "metadata": {},
   "source": [
    "# A Survey of Definite Iteration in Programming"
   ]
  },
  {
   "cell_type": "code",
   "execution_count": 41,
   "id": "712892bc",
   "metadata": {},
   "outputs": [],
   "source": [
    "# Numeric Range Loop\n",
    "# for i = 1 to 10\n",
    "#    <loop body>"
   ]
  },
  {
   "cell_type": "code",
   "execution_count": 42,
   "id": "616c848d",
   "metadata": {},
   "outputs": [],
   "source": [
    "# Three-Expression Loop\n",
    "# for (i = 1; i <= 10; i++)\n",
    "#    <loop body>"
   ]
  },
  {
   "cell_type": "code",
   "execution_count": 43,
   "id": "47108657",
   "metadata": {},
   "outputs": [
    {
     "ename": "IndentationError",
     "evalue": "unexpected indent (1105148893.py, line 3)",
     "output_type": "error",
     "traceback": [
      "\u001b[1;36m  Input \u001b[1;32mIn [43]\u001b[1;36m\u001b[0m\n\u001b[1;33m    <loop body>\u001b[0m\n\u001b[1;37m    ^\u001b[0m\n\u001b[1;31mIndentationError\u001b[0m\u001b[1;31m:\u001b[0m unexpected indent\n"
     ]
    }
   ],
   "source": [
    "# Collection-Based or Iterator-Based Loop\n",
    "# for i in <collection>\n",
    "     <loop body>"
   ]
  },
  {
   "cell_type": "markdown",
   "id": "b8b00226",
   "metadata": {},
   "source": [
    "# The Python for Loop"
   ]
  },
  {
   "cell_type": "code",
   "execution_count": 44,
   "id": "18c8e4b1",
   "metadata": {},
   "outputs": [],
   "source": [
    "# Python hanya mengimplementasikan iterasi terakhir: collection-based.\n",
    "\n",
    "# for <var> in <iterable>\n",
    "#    <statement(s)>\n",
    "\n",
    "# <iterable> adalah kumpulan objek -- misalnya, list atau tuple. <statement(s)> di badan"
   ]
  },
  {
   "cell_type": "code",
   "execution_count": 45,
   "id": "efbccb56",
   "metadata": {},
   "outputs": [
    {
     "name": "stdout",
     "output_type": "stream",
     "text": [
      "foo\n",
      "bar\n",
      "baz\n"
     ]
    }
   ],
   "source": [
    "a = ['foo', 'bar', 'baz']\n",
    "for i in a:\n",
    "    print(i)"
   ]
  },
  {
   "cell_type": "code",
   "execution_count": 46,
   "id": "bb81fa01",
   "metadata": {},
   "outputs": [
    {
     "name": "stdout",
     "output_type": "stream",
     "text": [
      "foo\n",
      "bar\n",
      "baz\n"
     ]
    }
   ],
   "source": [
    "d = {'foo': 1, 'bar':2, 'baz':3}\n",
    "for k in d:\n",
    "    print(k)"
   ]
  },
  {
   "cell_type": "code",
   "execution_count": 47,
   "id": "7c1a129f",
   "metadata": {},
   "outputs": [
    {
     "name": "stdout",
     "output_type": "stream",
     "text": [
      "1\n",
      "2\n",
      "3\n"
     ]
    }
   ],
   "source": [
    "for k in d:\n",
    "    print(d[k])"
   ]
  },
  {
   "cell_type": "code",
   "execution_count": 48,
   "id": "9db666ea",
   "metadata": {},
   "outputs": [
    {
     "name": "stdout",
     "output_type": "stream",
     "text": [
      "1\n",
      "2\n",
      "3\n"
     ]
    }
   ],
   "source": [
    "for k in d.values():\n",
    "    print(k)"
   ]
  },
  {
   "cell_type": "code",
   "execution_count": 49,
   "id": "d2d32d4d",
   "metadata": {},
   "outputs": [
    {
     "name": "stdout",
     "output_type": "stream",
     "text": [
      "foo : 1\n",
      "bar : 2\n",
      "baz : 3\n"
     ]
    }
   ],
   "source": [
    "for k, v in d.items():\n",
    "    print(k, \":\", v)"
   ]
  },
  {
   "cell_type": "markdown",
   "id": "e1bb0737",
   "metadata": {},
   "source": [
    "# Iterating Through a Dictionary"
   ]
  },
  {
   "cell_type": "code",
   "execution_count": 50,
   "id": "65243065",
   "metadata": {},
   "outputs": [],
   "source": [
    "# untuk mengakses nilai dictionary dalam loop, menggunakan kunci sebagai berikut:\n",
    "# for k in d:\n",
    "#    print(k)"
   ]
  },
  {
   "cell_type": "code",
   "execution_count": 51,
   "id": "a7f0428d",
   "metadata": {},
   "outputs": [],
   "source": [
    "# dapat beriterasi melalui nilai dictionary secara langsung dengan menggunakan .values()\n",
    "# for v in d.values():\n",
    "#    print(v)"
   ]
  },
  {
   "cell_type": "markdown",
   "id": "9f4b5df2",
   "metadata": {},
   "source": [
    "# The range() Function"
   ]
  },
  {
   "cell_type": "code",
   "execution_count": 52,
   "id": "1a7c1c29",
   "metadata": {},
   "outputs": [
    {
     "name": "stdout",
     "output_type": "stream",
     "text": [
      "0\n",
      "1\n",
      "2\n",
      "3\n",
      "4\n"
     ]
    }
   ],
   "source": [
    "for n in (0, 1, 2, 3, 4):\n",
    "    print(n)"
   ]
  },
  {
   "cell_type": "markdown",
   "id": "0475b4f1",
   "metadata": {},
   "source": [
    "# Altering for Loop Behavior"
   ]
  },
  {
   "cell_type": "markdown",
   "id": "a88366e2",
   "metadata": {},
   "source": [
    "# The break and continue Statements"
   ]
  },
  {
   "cell_type": "code",
   "execution_count": 53,
   "id": "d2789859",
   "metadata": {},
   "outputs": [],
   "source": [
    "# break menghentikan loop sepenuhnya dan melanjutkan ke pernyataan pertama setelah loop:"
   ]
  },
  {
   "cell_type": "code",
   "execution_count": 54,
   "id": "db4117d9",
   "metadata": {},
   "outputs": [
    {
     "name": "stdout",
     "output_type": "stream",
     "text": [
      "foo\n"
     ]
    }
   ],
   "source": [
    "# contoh break\n",
    "for i in ['foo', 'bar', 'baz', 'qux']:\n",
    "    if 'b' in i:\n",
    "        break\n",
    "    print(i)"
   ]
  },
  {
   "cell_type": "code",
   "execution_count": 55,
   "id": "a0d859cd",
   "metadata": {},
   "outputs": [],
   "source": [
    "# continue menghentikan iterasi saat ini dan melanjutkan ke iterasi berikutnya:"
   ]
  },
  {
   "cell_type": "code",
   "execution_count": 56,
   "id": "de036ecf",
   "metadata": {},
   "outputs": [
    {
     "name": "stdout",
     "output_type": "stream",
     "text": [
      "foo\n",
      "qux\n"
     ]
    }
   ],
   "source": [
    "# contoh continue\n",
    "for i in ['foo', 'bar', 'baz', 'qux']:\n",
    "    if 'b' in i:\n",
    "        continue\n",
    "    print(i)"
   ]
  },
  {
   "cell_type": "markdown",
   "id": "ab7334cb",
   "metadata": {},
   "source": [
    "# The else Clause"
   ]
  },
  {
   "cell_type": "code",
   "execution_count": 57,
   "id": "517ca42a",
   "metadata": {},
   "outputs": [
    {
     "name": "stdout",
     "output_type": "stream",
     "text": [
      "foo\n",
      "bar\n",
      "baz\n",
      "qux\n",
      "Done.\n"
     ]
    }
   ],
   "source": [
    "# Klause else akan dijalankan jika loop berakhir karena iterable habis:\n",
    "\n",
    "for i in ['foo', 'bar', 'baz', 'qux']:\n",
    "    print(i)\n",
    "else:\n",
    "    print('Done.')  # will execute"
   ]
  },
  {
   "cell_type": "code",
   "execution_count": 58,
   "id": "265ef615",
   "metadata": {},
   "outputs": [
    {
     "name": "stdout",
     "output_type": "stream",
     "text": [
      "foo\n"
     ]
    }
   ],
   "source": [
    "# Klause else tidak akan dijalankan jika list berhenti dengan pernyataan break:\n",
    "\n",
    "for i in ['foo', 'bar', 'baz', 'qux']:\n",
    "    if i == 'bar':\n",
    "        break\n",
    "    print(i)\n",
    "else:\n",
    "    print('Done.')  #will not execute"
   ]
  },
  {
   "cell_type": "code",
   "execution_count": 59,
   "id": "60244be9",
   "metadata": {},
   "outputs": [],
   "source": [
    "# Contoh penggunaan:"
   ]
  },
  {
   "cell_type": "code",
   "execution_count": 61,
   "id": "77deb17b",
   "metadata": {},
   "outputs": [
    {
     "name": "stdout",
     "output_type": "stream",
     "text": [
      "Ketikan termperatur yang ingin dikonversi, eg. 45F, 120C: 30C\n",
      "Temperaturnya adalah 86 derajat\n"
     ]
    }
   ],
   "source": [
    "temp = input(\"Ketikan termperatur yang ingin dikonversi, eg. 45F, 120C: \")\n",
    "degree = int(temp[:-1])\n",
    "i_convertion = temp[-1]\n",
    "\n",
    "if i_convertion == \"C\":\n",
    "    result = int(round((9 * degree) / 5 + 32))\n",
    "elif i_convertion == \"F\":\n",
    "    result = int(round((degree - 32) * 5 /9))\n",
    "else: \n",
    "    print(\"Masukan input yang benar\")\n",
    "    \n",
    "print(\"Temperaturnya adalah\", result, \"derajat\")"
   ]
  },
  {
   "cell_type": "code",
   "execution_count": 63,
   "id": "71348d60",
   "metadata": {},
   "outputs": [
    {
     "name": "stdout",
     "output_type": "stream",
     "text": [
      "Ketikan karakter: caca\n",
      "caca\n",
      "Ketikan karakter: ya\n",
      "ya\n",
      "Ketikan karakter: stop\n",
      "stop\n"
     ]
    }
   ],
   "source": [
    "while True:\n",
    "    msg = input(\"Ketikan karakter: \").lower()\n",
    "    print(msg)\n",
    "    if msg == \"stop\":\n",
    "        break"
   ]
  }
 ],
 "metadata": {
  "kernelspec": {
   "display_name": "Python 3 (ipykernel)",
   "language": "python",
   "name": "python3"
  },
  "language_info": {
   "codemirror_mode": {
    "name": "ipython",
    "version": 3
   },
   "file_extension": ".py",
   "mimetype": "text/x-python",
   "name": "python",
   "nbconvert_exporter": "python",
   "pygments_lexer": "ipython3",
   "version": "3.9.12"
  }
 },
 "nbformat": 4,
 "nbformat_minor": 5
}
