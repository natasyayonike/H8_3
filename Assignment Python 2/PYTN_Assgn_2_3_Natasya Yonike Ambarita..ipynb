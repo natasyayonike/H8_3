{
 "cells": [
  {
   "cell_type": "markdown",
   "id": "c1387b76",
   "metadata": {},
   "source": [
    "# Assignment Python\n",
    "Natasya Yonike Ambarita PYTN-KS07-013"
   ]
  },
  {
   "cell_type": "markdown",
   "id": "41e9739d",
   "metadata": {},
   "source": [
    "# Project Overview"
   ]
  },
  {
   "cell_type": "markdown",
   "id": "544e0a1e",
   "metadata": {},
   "source": [
    "## Tentang Data"
   ]
  },
  {
   "cell_type": "markdown",
   "id": "92a638b0",
   "metadata": {},
   "source": [
    "Menggunakan Kumpulan Data Penjualan Properti NYC dari Kaggle. \n",
    "\n",
    "Kumpulan data ini adalah catatan dari setiap bangunan atau unit bangunan (apartemen, dll.) yang dijual di pasar properti Kota New York selama periode 12 bulan.\n",
    "\n",
    "Dataset ini berisi lokasi, alamat, tipe, harga jual, dan tanggal penjualan unit bangunan yang terjual. Referensi di bidang yang lebih rumit:\n",
    "- BOROUGH: Kode digit untuk borough tempat properti berada; agar ini adalah Manhattan (1), Bronx (2), Brooklyn (3), Queens (4), dan Staten Island (5).\n",
    "- BLOCK; LOT: Kombinasi borough, blok, dan lot membentuk kunci unik untuk properti di New York City. Biasa disebut BBL.\n",
    "- BUILDING CLASS AT PRESENT and BUILDING CLASS AT TIME OF SALE: Jenis bangunan pada berbagai titik waktu."
   ]
  },
  {
   "cell_type": "markdown",
   "id": "80e24e21",
   "metadata": {},
   "source": [
    "## Informasi Atribut"
   ]
  },
  {
   "cell_type": "markdown",
   "id": "bc875af9",
   "metadata": {},
   "source": [
    "1. Unnamed: 0                      \n",
    "2. BOROUGH    \n",
    "3. NEIGHBORHOOD                    \n",
    "4. BUILDING CLASS CATEGORY         \n",
    "5. TAX CLASS AT PRESENT            \n",
    "6. BLOCK                           \n",
    "7. LOT                              \n",
    "8. EASE-MENT                       \n",
    "9. BUILDING CLASS AT PRESENT       \n",
    "10. ADDRESS                         \n",
    "11. APARTMENT NUMBER                \n",
    "12. ZIP CODE                         \n",
    "13. RESIDENTIAL UNITS                \n",
    "14. COMMERCIAL UNITS                 \n",
    "15. TOTAL UNITS                     \n",
    "16. LAND SQUARE FEET                \n",
    "17. GROSS SQUARE FEET               \n",
    "18. YEAR BUILT                       \n",
    "19. TAX CLASS AT TIME OF SALE       \n",
    "20. BUILDING CLASS AT TIME OF SALE  \n",
    "21. SALE PRICE                      \n",
    "22. SALE DATE      "
   ]
  },
  {
   "cell_type": "markdown",
   "id": "49eeb432",
   "metadata": {},
   "source": [
    "## Objektif Yang Harus Dicapai"
   ]
  },
  {
   "cell_type": "markdown",
   "id": "5ebbae81",
   "metadata": {},
   "source": [
    "Lakukan metode statistik kepada dataset, seperti Central Tendencies, Intervals, Hypotesis Testing, dan semua metode statistik yang telah kamu pelajari dalam course ini. \n",
    "\n",
    "Code Review:\n",
    "- Measure of Central Tendency: Mean\n",
    "- Measure of Central Tendency: Median\n",
    "- Measure of Central Tendency: Modus\n",
    "- Measure of Spread: Range\n",
    "- Measure of Spread: Variance\n",
    "- Measure of Spread: Standard Deviation\n",
    "- Probability Distribution\n",
    "- Confidence Intervals\n",
    "- Hypothesis Testing\n",
    "- Preprocessing\n",
    "- Kode berjalan tanpa error\n",
    "\n",
    "Readability:\n",
    "- Tertata Dengan Baik\n",
    "\n",
    "Analysis:\n",
    "- Overall Analysis\t"
   ]
  },
  {
   "cell_type": "markdown",
   "id": "a92b1c35",
   "metadata": {},
   "source": [
    "# Impor Library"
   ]
  },
  {
   "cell_type": "code",
   "execution_count": 1,
   "id": "ecdfa2fa",
   "metadata": {},
   "outputs": [],
   "source": [
    "import math\n",
    "import statistics\n",
    "import numpy as np\n",
    "import scipy.stats\n",
    "import pandas as pd\n",
    "\n",
    "from scipy.stats import t\n",
    "import matplotlib.pyplot as plt\n",
    "from IPython.display import Math, Latex\n",
    "from IPython.core.display import Image\n",
    "\n",
    "%matplotlib inline\n",
    "\n",
    "import seaborn as sns"
   ]
  },
  {
   "cell_type": "markdown",
   "id": "b21feadb",
   "metadata": {},
   "source": [
    "# Impor Dataset"
   ]
  },
  {
   "cell_type": "code",
   "execution_count": 2,
   "id": "a5573843",
   "metadata": {
    "scrolled": true
   },
   "outputs": [
    {
     "data": {
      "text/html": [
       "<div>\n",
       "<style scoped>\n",
       "    .dataframe tbody tr th:only-of-type {\n",
       "        vertical-align: middle;\n",
       "    }\n",
       "\n",
       "    .dataframe tbody tr th {\n",
       "        vertical-align: top;\n",
       "    }\n",
       "\n",
       "    .dataframe thead th {\n",
       "        text-align: right;\n",
       "    }\n",
       "</style>\n",
       "<table border=\"1\" class=\"dataframe\">\n",
       "  <thead>\n",
       "    <tr style=\"text-align: right;\">\n",
       "      <th></th>\n",
       "      <th>Unnamed: 0</th>\n",
       "      <th>BOROUGH</th>\n",
       "      <th>NEIGHBORHOOD</th>\n",
       "      <th>BUILDING CLASS CATEGORY</th>\n",
       "      <th>TAX CLASS AT PRESENT</th>\n",
       "      <th>BLOCK</th>\n",
       "      <th>LOT</th>\n",
       "      <th>EASE-MENT</th>\n",
       "      <th>BUILDING CLASS AT PRESENT</th>\n",
       "      <th>ADDRESS</th>\n",
       "      <th>...</th>\n",
       "      <th>RESIDENTIAL UNITS</th>\n",
       "      <th>COMMERCIAL UNITS</th>\n",
       "      <th>TOTAL UNITS</th>\n",
       "      <th>LAND SQUARE FEET</th>\n",
       "      <th>GROSS SQUARE FEET</th>\n",
       "      <th>YEAR BUILT</th>\n",
       "      <th>TAX CLASS AT TIME OF SALE</th>\n",
       "      <th>BUILDING CLASS AT TIME OF SALE</th>\n",
       "      <th>SALE PRICE</th>\n",
       "      <th>SALE DATE</th>\n",
       "    </tr>\n",
       "  </thead>\n",
       "  <tbody>\n",
       "    <tr>\n",
       "      <th>0</th>\n",
       "      <td>4</td>\n",
       "      <td>1</td>\n",
       "      <td>ALPHABET CITY</td>\n",
       "      <td>07 RENTALS - WALKUP APARTMENTS</td>\n",
       "      <td>2A</td>\n",
       "      <td>392</td>\n",
       "      <td>6</td>\n",
       "      <td></td>\n",
       "      <td>C2</td>\n",
       "      <td>153 AVENUE B</td>\n",
       "      <td>...</td>\n",
       "      <td>5</td>\n",
       "      <td>0</td>\n",
       "      <td>5</td>\n",
       "      <td>1633</td>\n",
       "      <td>6440</td>\n",
       "      <td>1900</td>\n",
       "      <td>2</td>\n",
       "      <td>C2</td>\n",
       "      <td>6625000</td>\n",
       "      <td>2017-07-19 00:00:00</td>\n",
       "    </tr>\n",
       "    <tr>\n",
       "      <th>1</th>\n",
       "      <td>5</td>\n",
       "      <td>1</td>\n",
       "      <td>ALPHABET CITY</td>\n",
       "      <td>07 RENTALS - WALKUP APARTMENTS</td>\n",
       "      <td>2</td>\n",
       "      <td>399</td>\n",
       "      <td>26</td>\n",
       "      <td></td>\n",
       "      <td>C7</td>\n",
       "      <td>234 EAST 4TH   STREET</td>\n",
       "      <td>...</td>\n",
       "      <td>28</td>\n",
       "      <td>3</td>\n",
       "      <td>31</td>\n",
       "      <td>4616</td>\n",
       "      <td>18690</td>\n",
       "      <td>1900</td>\n",
       "      <td>2</td>\n",
       "      <td>C7</td>\n",
       "      <td>-</td>\n",
       "      <td>2016-12-14 00:00:00</td>\n",
       "    </tr>\n",
       "    <tr>\n",
       "      <th>2</th>\n",
       "      <td>6</td>\n",
       "      <td>1</td>\n",
       "      <td>ALPHABET CITY</td>\n",
       "      <td>07 RENTALS - WALKUP APARTMENTS</td>\n",
       "      <td>2</td>\n",
       "      <td>399</td>\n",
       "      <td>39</td>\n",
       "      <td></td>\n",
       "      <td>C7</td>\n",
       "      <td>197 EAST 3RD   STREET</td>\n",
       "      <td>...</td>\n",
       "      <td>16</td>\n",
       "      <td>1</td>\n",
       "      <td>17</td>\n",
       "      <td>2212</td>\n",
       "      <td>7803</td>\n",
       "      <td>1900</td>\n",
       "      <td>2</td>\n",
       "      <td>C7</td>\n",
       "      <td>-</td>\n",
       "      <td>2016-12-09 00:00:00</td>\n",
       "    </tr>\n",
       "    <tr>\n",
       "      <th>3</th>\n",
       "      <td>7</td>\n",
       "      <td>1</td>\n",
       "      <td>ALPHABET CITY</td>\n",
       "      <td>07 RENTALS - WALKUP APARTMENTS</td>\n",
       "      <td>2B</td>\n",
       "      <td>402</td>\n",
       "      <td>21</td>\n",
       "      <td></td>\n",
       "      <td>C4</td>\n",
       "      <td>154 EAST 7TH STREET</td>\n",
       "      <td>...</td>\n",
       "      <td>10</td>\n",
       "      <td>0</td>\n",
       "      <td>10</td>\n",
       "      <td>2272</td>\n",
       "      <td>6794</td>\n",
       "      <td>1913</td>\n",
       "      <td>2</td>\n",
       "      <td>C4</td>\n",
       "      <td>3936272</td>\n",
       "      <td>2016-09-23 00:00:00</td>\n",
       "    </tr>\n",
       "    <tr>\n",
       "      <th>4</th>\n",
       "      <td>8</td>\n",
       "      <td>1</td>\n",
       "      <td>ALPHABET CITY</td>\n",
       "      <td>07 RENTALS - WALKUP APARTMENTS</td>\n",
       "      <td>2A</td>\n",
       "      <td>404</td>\n",
       "      <td>55</td>\n",
       "      <td></td>\n",
       "      <td>C2</td>\n",
       "      <td>301 EAST 10TH   STREET</td>\n",
       "      <td>...</td>\n",
       "      <td>6</td>\n",
       "      <td>0</td>\n",
       "      <td>6</td>\n",
       "      <td>2369</td>\n",
       "      <td>4615</td>\n",
       "      <td>1900</td>\n",
       "      <td>2</td>\n",
       "      <td>C2</td>\n",
       "      <td>8000000</td>\n",
       "      <td>2016-11-17 00:00:00</td>\n",
       "    </tr>\n",
       "  </tbody>\n",
       "</table>\n",
       "<p>5 rows × 22 columns</p>\n",
       "</div>"
      ],
      "text/plain": [
       "   Unnamed: 0  BOROUGH   NEIGHBORHOOD  \\\n",
       "0           4        1  ALPHABET CITY   \n",
       "1           5        1  ALPHABET CITY   \n",
       "2           6        1  ALPHABET CITY   \n",
       "3           7        1  ALPHABET CITY   \n",
       "4           8        1  ALPHABET CITY   \n",
       "\n",
       "                       BUILDING CLASS CATEGORY TAX CLASS AT PRESENT  BLOCK  \\\n",
       "0  07 RENTALS - WALKUP APARTMENTS                                2A    392   \n",
       "1  07 RENTALS - WALKUP APARTMENTS                                 2    399   \n",
       "2  07 RENTALS - WALKUP APARTMENTS                                 2    399   \n",
       "3  07 RENTALS - WALKUP APARTMENTS                                2B    402   \n",
       "4  07 RENTALS - WALKUP APARTMENTS                                2A    404   \n",
       "\n",
       "   LOT EASE-MENT BUILDING CLASS AT PRESENT                 ADDRESS  ...  \\\n",
       "0    6                                  C2            153 AVENUE B  ...   \n",
       "1   26                                  C7   234 EAST 4TH   STREET  ...   \n",
       "2   39                                  C7   197 EAST 3RD   STREET  ...   \n",
       "3   21                                  C4     154 EAST 7TH STREET  ...   \n",
       "4   55                                  C2  301 EAST 10TH   STREET  ...   \n",
       "\n",
       "  RESIDENTIAL UNITS  COMMERCIAL UNITS  TOTAL UNITS  LAND SQUARE FEET  \\\n",
       "0                 5                 0            5              1633   \n",
       "1                28                 3           31              4616   \n",
       "2                16                 1           17              2212   \n",
       "3                10                 0           10              2272   \n",
       "4                 6                 0            6              2369   \n",
       "\n",
       "   GROSS SQUARE FEET YEAR BUILT TAX CLASS AT TIME OF SALE  \\\n",
       "0               6440       1900                         2   \n",
       "1              18690       1900                         2   \n",
       "2               7803       1900                         2   \n",
       "3               6794       1913                         2   \n",
       "4               4615       1900                         2   \n",
       "\n",
       "   BUILDING CLASS AT TIME OF SALE  SALE PRICE            SALE DATE  \n",
       "0                              C2     6625000  2017-07-19 00:00:00  \n",
       "1                              C7         -    2016-12-14 00:00:00  \n",
       "2                              C7         -    2016-12-09 00:00:00  \n",
       "3                              C4     3936272  2016-09-23 00:00:00  \n",
       "4                              C2     8000000  2016-11-17 00:00:00  \n",
       "\n",
       "[5 rows x 22 columns]"
      ]
     },
     "execution_count": 2,
     "metadata": {},
     "output_type": "execute_result"
    }
   ],
   "source": [
    "df = pd.read_csv('nyc-rolling-sales.csv')\n",
    "df.head()"
   ]
  },
  {
   "cell_type": "markdown",
   "id": "06f21562",
   "metadata": {},
   "source": [
    "## Deskripsi Dataset"
   ]
  },
  {
   "cell_type": "code",
   "execution_count": 3,
   "id": "ea7ebf78",
   "metadata": {},
   "outputs": [
    {
     "name": "stdout",
     "output_type": "stream",
     "text": [
      "<class 'pandas.core.frame.DataFrame'>\n",
      "RangeIndex: 84548 entries, 0 to 84547\n",
      "Data columns (total 22 columns):\n",
      " #   Column                          Non-Null Count  Dtype \n",
      "---  ------                          --------------  ----- \n",
      " 0   Unnamed: 0                      84548 non-null  int64 \n",
      " 1   BOROUGH                         84548 non-null  int64 \n",
      " 2   NEIGHBORHOOD                    84548 non-null  object\n",
      " 3   BUILDING CLASS CATEGORY         84548 non-null  object\n",
      " 4   TAX CLASS AT PRESENT            84548 non-null  object\n",
      " 5   BLOCK                           84548 non-null  int64 \n",
      " 6   LOT                             84548 non-null  int64 \n",
      " 7   EASE-MENT                       84548 non-null  object\n",
      " 8   BUILDING CLASS AT PRESENT       84548 non-null  object\n",
      " 9   ADDRESS                         84548 non-null  object\n",
      " 10  APARTMENT NUMBER                84548 non-null  object\n",
      " 11  ZIP CODE                        84548 non-null  int64 \n",
      " 12  RESIDENTIAL UNITS               84548 non-null  int64 \n",
      " 13  COMMERCIAL UNITS                84548 non-null  int64 \n",
      " 14  TOTAL UNITS                     84548 non-null  int64 \n",
      " 15  LAND SQUARE FEET                84548 non-null  object\n",
      " 16  GROSS SQUARE FEET               84548 non-null  object\n",
      " 17  YEAR BUILT                      84548 non-null  int64 \n",
      " 18  TAX CLASS AT TIME OF SALE       84548 non-null  int64 \n",
      " 19  BUILDING CLASS AT TIME OF SALE  84548 non-null  object\n",
      " 20  SALE PRICE                      84548 non-null  object\n",
      " 21  SALE DATE                       84548 non-null  object\n",
      "dtypes: int64(10), object(12)\n",
      "memory usage: 14.2+ MB\n"
     ]
    }
   ],
   "source": [
    "df.info()"
   ]
  },
  {
   "cell_type": "code",
   "execution_count": 4,
   "id": "f753b149",
   "metadata": {},
   "outputs": [
    {
     "data": {
      "text/plain": [
       "(84548, 22)"
      ]
     },
     "execution_count": 4,
     "metadata": {},
     "output_type": "execute_result"
    }
   ],
   "source": [
    "df.shape"
   ]
  },
  {
   "cell_type": "markdown",
   "id": "11988bce",
   "metadata": {},
   "source": [
    "# Data Cleaning and Processing"
   ]
  },
  {
   "cell_type": "markdown",
   "id": "5fb51eb1",
   "metadata": {},
   "source": [
    "### Cek Missing Value"
   ]
  },
  {
   "cell_type": "code",
   "execution_count": 5,
   "id": "a53bc1a6",
   "metadata": {},
   "outputs": [
    {
     "data": {
      "text/plain": [
       "0"
      ]
     },
     "execution_count": 5,
     "metadata": {},
     "output_type": "execute_result"
    }
   ],
   "source": [
    "df.isnull().sum().sum()"
   ]
  },
  {
   "cell_type": "markdown",
   "id": "df77e423",
   "metadata": {},
   "source": [
    "Kesimpulan:\n",
    "Output diatas disimpulkan bahwa jumlah Missing Value pada dataset adalah 0"
   ]
  },
  {
   "cell_type": "markdown",
   "id": "4fd25103",
   "metadata": {},
   "source": [
    "### Cek Duplikat Data"
   ]
  },
  {
   "cell_type": "code",
   "execution_count": 6,
   "id": "1adbe376",
   "metadata": {},
   "outputs": [
    {
     "data": {
      "text/plain": [
       "0"
      ]
     },
     "execution_count": 6,
     "metadata": {},
     "output_type": "execute_result"
    }
   ],
   "source": [
    "df.duplicated().sum()"
   ]
  },
  {
   "cell_type": "markdown",
   "id": "909e3f46",
   "metadata": {},
   "source": [
    "Kesimpulan:\n",
    "Output diatas disimpulkan bahwa jumlah data duplikat pada dataset adalah 0"
   ]
  },
  {
   "cell_type": "markdown",
   "id": "5195a51d",
   "metadata": {},
   "source": [
    "### Menghapus kolom yang tidak dipakai"
   ]
  },
  {
   "cell_type": "code",
   "execution_count": 7,
   "id": "a69ac064",
   "metadata": {},
   "outputs": [],
   "source": [
    "df.drop(['Unnamed: 0', 'NEIGHBORHOOD','BLOCK', 'LOT', 'EASE-MENT', 'ADDRESS', 'APARTMENT NUMBER', 'ZIP CODE'], axis=1, inplace=True)"
   ]
  },
  {
   "cell_type": "code",
   "execution_count": 8,
   "id": "b05b0386",
   "metadata": {
    "scrolled": true
   },
   "outputs": [
    {
     "name": "stdout",
     "output_type": "stream",
     "text": [
      "<class 'pandas.core.frame.DataFrame'>\n",
      "RangeIndex: 84548 entries, 0 to 84547\n",
      "Data columns (total 14 columns):\n",
      " #   Column                          Non-Null Count  Dtype \n",
      "---  ------                          --------------  ----- \n",
      " 0   BOROUGH                         84548 non-null  int64 \n",
      " 1   BUILDING CLASS CATEGORY         84548 non-null  object\n",
      " 2   TAX CLASS AT PRESENT            84548 non-null  object\n",
      " 3   BUILDING CLASS AT PRESENT       84548 non-null  object\n",
      " 4   RESIDENTIAL UNITS               84548 non-null  int64 \n",
      " 5   COMMERCIAL UNITS                84548 non-null  int64 \n",
      " 6   TOTAL UNITS                     84548 non-null  int64 \n",
      " 7   LAND SQUARE FEET                84548 non-null  object\n",
      " 8   GROSS SQUARE FEET               84548 non-null  object\n",
      " 9   YEAR BUILT                      84548 non-null  int64 \n",
      " 10  TAX CLASS AT TIME OF SALE       84548 non-null  int64 \n",
      " 11  BUILDING CLASS AT TIME OF SALE  84548 non-null  object\n",
      " 12  SALE PRICE                      84548 non-null  object\n",
      " 13  SALE DATE                       84548 non-null  object\n",
      "dtypes: int64(6), object(8)\n",
      "memory usage: 9.0+ MB\n"
     ]
    }
   ],
   "source": [
    "df.info()"
   ]
  },
  {
   "cell_type": "markdown",
   "id": "cf3f113d",
   "metadata": {},
   "source": [
    "### Mengubah tipe data kolom"
   ]
  },
  {
   "cell_type": "code",
   "execution_count": 9,
   "id": "102fe469",
   "metadata": {},
   "outputs": [],
   "source": [
    "cat = ['TAX CLASS AT PRESENT', 'TAX CLASS AT TIME OF SALE']\n",
    "\n",
    "for col in cat:\n",
    "    df[col] = df[col].astype('str')"
   ]
  },
  {
   "cell_type": "code",
   "execution_count": 10,
   "id": "0993fdcb",
   "metadata": {},
   "outputs": [],
   "source": [
    "numeric = ['LAND SQUARE FEET', 'GROSS SQUARE FEET', 'SALE PRICE']\n",
    "\n",
    "for col in numeric:\n",
    "    df[col] = pd.to_numeric(df[col], errors='coerce')"
   ]
  },
  {
   "cell_type": "code",
   "execution_count": 11,
   "id": "74890b54",
   "metadata": {},
   "outputs": [
    {
     "name": "stdout",
     "output_type": "stream",
     "text": [
      "<class 'pandas.core.frame.DataFrame'>\n",
      "RangeIndex: 84548 entries, 0 to 84547\n",
      "Data columns (total 14 columns):\n",
      " #   Column                          Non-Null Count  Dtype  \n",
      "---  ------                          --------------  -----  \n",
      " 0   BOROUGH                         84548 non-null  int64  \n",
      " 1   BUILDING CLASS CATEGORY         84548 non-null  object \n",
      " 2   TAX CLASS AT PRESENT            84548 non-null  object \n",
      " 3   BUILDING CLASS AT PRESENT       84548 non-null  object \n",
      " 4   RESIDENTIAL UNITS               84548 non-null  int64  \n",
      " 5   COMMERCIAL UNITS                84548 non-null  int64  \n",
      " 6   TOTAL UNITS                     84548 non-null  int64  \n",
      " 7   LAND SQUARE FEET                58296 non-null  float64\n",
      " 8   GROSS SQUARE FEET               56936 non-null  float64\n",
      " 9   YEAR BUILT                      84548 non-null  int64  \n",
      " 10  TAX CLASS AT TIME OF SALE       84548 non-null  object \n",
      " 11  BUILDING CLASS AT TIME OF SALE  84548 non-null  object \n",
      " 12  SALE PRICE                      69987 non-null  float64\n",
      " 13  SALE DATE                       84548 non-null  object \n",
      "dtypes: float64(3), int64(5), object(6)\n",
      "memory usage: 9.0+ MB\n"
     ]
    }
   ],
   "source": [
    "df.info()"
   ]
  },
  {
   "cell_type": "markdown",
   "id": "b0899e4a",
   "metadata": {},
   "source": [
    "### Cek Missing Value"
   ]
  },
  {
   "cell_type": "code",
   "execution_count": 12,
   "id": "026ee2a8",
   "metadata": {},
   "outputs": [
    {
     "data": {
      "text/plain": [
       "BOROUGH                               0\n",
       "BUILDING CLASS CATEGORY               0\n",
       "TAX CLASS AT PRESENT                  0\n",
       "BUILDING CLASS AT PRESENT             0\n",
       "RESIDENTIAL UNITS                     0\n",
       "COMMERCIAL UNITS                      0\n",
       "TOTAL UNITS                           0\n",
       "LAND SQUARE FEET                  26252\n",
       "GROSS SQUARE FEET                 27612\n",
       "YEAR BUILT                            0\n",
       "TAX CLASS AT TIME OF SALE             0\n",
       "BUILDING CLASS AT TIME OF SALE        0\n",
       "SALE PRICE                        14561\n",
       "SALE DATE                             0\n",
       "dtype: int64"
      ]
     },
     "execution_count": 12,
     "metadata": {},
     "output_type": "execute_result"
    }
   ],
   "source": [
    "df.isnull().sum()"
   ]
  },
  {
   "cell_type": "markdown",
   "id": "93d6eb85",
   "metadata": {},
   "source": [
    "Kesimpulan:\n",
    "Output diatas disimpulkan bahwa terdapat Missing Value pada 3 kolom, yaitu: LAND SQUARE FEET, GROSS SQUARE FEET, SALE PRICE"
   ]
  },
  {
   "cell_type": "markdown",
   "id": "5a31d097",
   "metadata": {},
   "source": [
    "### Menghapus Missing Value"
   ]
  },
  {
   "cell_type": "code",
   "execution_count": 13,
   "id": "a6763a2f",
   "metadata": {},
   "outputs": [],
   "source": [
    "df.dropna(axis=0, inplace=True)"
   ]
  },
  {
   "cell_type": "code",
   "execution_count": 14,
   "id": "1f5f9e49",
   "metadata": {},
   "outputs": [
    {
     "data": {
      "text/plain": [
       "BOROUGH                           0\n",
       "BUILDING CLASS CATEGORY           0\n",
       "TAX CLASS AT PRESENT              0\n",
       "BUILDING CLASS AT PRESENT         0\n",
       "RESIDENTIAL UNITS                 0\n",
       "COMMERCIAL UNITS                  0\n",
       "TOTAL UNITS                       0\n",
       "LAND SQUARE FEET                  0\n",
       "GROSS SQUARE FEET                 0\n",
       "YEAR BUILT                        0\n",
       "TAX CLASS AT TIME OF SALE         0\n",
       "BUILDING CLASS AT TIME OF SALE    0\n",
       "SALE PRICE                        0\n",
       "SALE DATE                         0\n",
       "dtype: int64"
      ]
     },
     "execution_count": 14,
     "metadata": {},
     "output_type": "execute_result"
    }
   ],
   "source": [
    "df.isnull().sum()"
   ]
  },
  {
   "cell_type": "markdown",
   "id": "34cd9ec1",
   "metadata": {},
   "source": [
    "### Cek Duplikat Data"
   ]
  },
  {
   "cell_type": "code",
   "execution_count": 15,
   "id": "0d0f399d",
   "metadata": {},
   "outputs": [
    {
     "data": {
      "text/plain": [
       "1023"
      ]
     },
     "execution_count": 15,
     "metadata": {},
     "output_type": "execute_result"
    }
   ],
   "source": [
    "df.duplicated().sum()"
   ]
  },
  {
   "cell_type": "markdown",
   "id": "098643da",
   "metadata": {},
   "source": [
    "### Menghapus data duplikat"
   ]
  },
  {
   "cell_type": "code",
   "execution_count": 16,
   "id": "f5c805ac",
   "metadata": {},
   "outputs": [],
   "source": [
    "#first= menganggap nilai pertama sebagai unik dan sisanya dari nilai yang sama sebagai duplikat.\n",
    "df_final = df.drop_duplicates(keep='first', inplace=False)"
   ]
  },
  {
   "cell_type": "code",
   "execution_count": 17,
   "id": "1a1bd6e9",
   "metadata": {},
   "outputs": [
    {
     "data": {
      "text/plain": [
       "0"
      ]
     },
     "execution_count": 17,
     "metadata": {},
     "output_type": "execute_result"
    }
   ],
   "source": [
    "df_final.duplicated().sum()"
   ]
  },
  {
   "cell_type": "markdown",
   "id": "e151591d",
   "metadata": {},
   "source": [
    "Setelah tidak ada Missing Value dan Data yang duplikat, proses dapat dilanjutkan"
   ]
  },
  {
   "cell_type": "markdown",
   "id": "9c865fe4",
   "metadata": {},
   "source": [
    "### Cek Outliers"
   ]
  },
  {
   "cell_type": "code",
   "execution_count": 18,
   "id": "8f527de7",
   "metadata": {},
   "outputs": [
    {
     "name": "stdout",
     "output_type": "stream",
     "text": [
      "<class 'pandas.core.frame.DataFrame'>\n",
      "Int64Index: 48244 entries, 0 to 84547\n",
      "Data columns (total 14 columns):\n",
      " #   Column                          Non-Null Count  Dtype  \n",
      "---  ------                          --------------  -----  \n",
      " 0   BOROUGH                         48244 non-null  int64  \n",
      " 1   BUILDING CLASS CATEGORY         48244 non-null  object \n",
      " 2   TAX CLASS AT PRESENT            48244 non-null  object \n",
      " 3   BUILDING CLASS AT PRESENT       48244 non-null  object \n",
      " 4   RESIDENTIAL UNITS               48244 non-null  int64  \n",
      " 5   COMMERCIAL UNITS                48244 non-null  int64  \n",
      " 6   TOTAL UNITS                     48244 non-null  int64  \n",
      " 7   LAND SQUARE FEET                48244 non-null  float64\n",
      " 8   GROSS SQUARE FEET               48244 non-null  float64\n",
      " 9   YEAR BUILT                      48244 non-null  int64  \n",
      " 10  TAX CLASS AT TIME OF SALE       48244 non-null  object \n",
      " 11  BUILDING CLASS AT TIME OF SALE  48244 non-null  object \n",
      " 12  SALE PRICE                      48244 non-null  float64\n",
      " 13  SALE DATE                       48244 non-null  object \n",
      "dtypes: float64(3), int64(5), object(6)\n",
      "memory usage: 5.5+ MB\n"
     ]
    }
   ],
   "source": [
    "df.info()"
   ]
  },
  {
   "cell_type": "code",
   "execution_count": 19,
   "id": "99f0e9a0",
   "metadata": {},
   "outputs": [
    {
     "data": {
      "image/png": "[encoded data removed]",
      "text/plain": [
       "<Figure size 432x288 with 1 Axes>"
      ]
     },
     "metadata": {
      "needs_background": "light"
     },
     "output_type": "display_data"
    },
    {
     "data": {
      "image/png": "[encoded data removed]",
      "text/plain": [
       "<Figure size 432x288 with 1 Axes>"
      ]
     },
     "metadata": {
      "needs_background": "light"
     },
     "output_type": "display_data"
    },
    {
     "data": {
      "image/png": "[encoded data removed]",
      "text/plain": [
       "<Figure size 432x288 with 1 Axes>"
      ]
     },
     "metadata": {
      "needs_background": "light"
     },
     "output_type": "display_data"
    }
   ],
   "source": [
    "for col in df.select_dtypes(include=float).columns:\n",
    "    plt.figure()\n",
    "    sns.boxplot(x=df[col])\n",
    "plt.show()"
   ]
  },
  {
   "cell_type": "markdown",
   "id": "3cb6db28",
   "metadata": {},
   "source": [
    "Kesimpulan: Output diatas menampilkan hasil cek outlier pada kolom dengan tipe data float. Pada kolom LAND SQUARE FEET, GROSS SQUARE FEET, dan SALE PRICE terdapat banyak outliers yang berada di atas titik atas."
   ]
  },
  {
   "cell_type": "markdown",
   "id": "c43d7bc9",
   "metadata": {},
   "source": [
    "### Mengatasi Outliers menggunakan IQR "
   ]
  },
  {
   "cell_type": "code",
   "execution_count": 20,
   "id": "b6493ce7",
   "metadata": {},
   "outputs": [],
   "source": [
    "Q1 = df[df.select_dtypes(include=float).columns].quantile(0.25)\n",
    "Q3 = df[df.select_dtypes(include=float).columns].quantile(0.75)\n",
    "\n",
    "IQR = Q3-Q1"
   ]
  },
  {
   "cell_type": "code",
   "execution_count": 21,
   "id": "0c11b300",
   "metadata": {},
   "outputs": [],
   "source": [
    "minimum = Q1-(1.5*IQR)\n",
    "maximum = Q3+(1.5*IQR)"
   ]
  },
  {
   "cell_type": "code",
   "execution_count": 22,
   "id": "2c4f6486",
   "metadata": {},
   "outputs": [
    {
     "name": "stderr",
     "output_type": "stream",
     "text": [
      "C:\\Users\\HP\\AppData\\Local\\Temp\\ipykernel_16344\\341836737.py:1: FutureWarning: Automatic reindexing on DataFrame vs Series comparisons is deprecated and will raise ValueError in a future version. Do `left, right = left.align(right, axis=1, copy=False)` before e.g. `left == right`\n",
      "  more_than = df > maximum\n",
      "C:\\Users\\HP\\AppData\\Local\\Temp\\ipykernel_16344\\341836737.py:2: FutureWarning: Automatic reindexing on DataFrame vs Series comparisons is deprecated and will raise ValueError in a future version. Do `left, right = left.align(right, axis=1, copy=False)` before e.g. `left == right`\n",
      "  lower_than = df < minimum\n"
     ]
    }
   ],
   "source": [
    "more_than = df > maximum\n",
    "lower_than = df < minimum"
   ]
  },
  {
   "cell_type": "code",
   "execution_count": 23,
   "id": "9cb7b5bf",
   "metadata": {},
   "outputs": [],
   "source": [
    "df = df.mask(more_than, maximum, axis=1)\n",
    "df = df.mask(lower_than, minimum, axis=1)"
   ]
  },
  {
   "cell_type": "code",
   "execution_count": 24,
   "id": "94b63a43",
   "metadata": {
    "scrolled": true
   },
   "outputs": [
    {
     "data": {
      "image/png": "[encoded data removed]",
      "text/plain": [
       "<Figure size 432x288 with 1 Axes>"
      ]
     },
     "metadata": {
      "needs_background": "light"
     },
     "output_type": "display_data"
    },
    {
     "data": {
      "image/png": "[encoded data removed]",
      "text/plain": [
       "<Figure size 432x288 with 1 Axes>"
      ]
     },
     "metadata": {
      "needs_background": "light"
     },
     "output_type": "display_data"
    },
    {
     "data": {
      "image/png": "[encoded data removed]",
      "text/plain": [
       "<Figure size 432x288 with 1 Axes>"
      ]
     },
     "metadata": {
      "needs_background": "light"
     },
     "output_type": "display_data"
    }
   ],
   "source": [
    "for col in df.select_dtypes(include=float).columns:\n",
    "    plt.figure()\n",
    "    sns.boxplot(x=df[col])\n",
    "plt.show()"
   ]
  },
  {
   "cell_type": "markdown",
   "id": "97f234ec",
   "metadata": {},
   "source": [
    "Kesimpulan: Output diatas menampilkan hasil cek outlier pada kolom dengan tipe data float. Pada kolom LAND SQUARE FEET, GROSS SQUARE FEET, dan SALE PRICE sudah tidak terdapat outliers."
   ]
  },
  {
   "cell_type": "markdown",
   "id": "fe25bce9",
   "metadata": {},
   "source": [
    "### Cek Korelasi"
   ]
  },
  {
   "cell_type": "code",
   "execution_count": 25,
   "id": "d7c73e51",
   "metadata": {},
   "outputs": [
    {
     "data": {
      "text/plain": [
       "<AxesSubplot:>"
      ]
     },
     "execution_count": 25,
     "metadata": {},
     "output_type": "execute_result"
    },
    {
     "data": {
      "image/png": "[encoded data removed]",
      "text/plain": [
       "<Figure size 720x720 with 2 Axes>"
      ]
     },
     "metadata": {
      "needs_background": "light"
     },
     "output_type": "display_data"
    }
   ],
   "source": [
    "plt.figure(figsize=(10, 10))\n",
    "sns.heatmap(df.corr(), annot=True)"
   ]
  },
  {
   "cell_type": "markdown",
   "id": "97dc404d",
   "metadata": {},
   "source": [
    "Kesimpulan: Output diatas menampilkan hubungan antar kolom:\n",
    "- Terdapat korelasi negatif antara BOROUGH dan SALE PRICE sebesar -0.00085, yang artinya arah variabel ini beerlawanan\n",
    "- Terdapat korelasi positif antara YEAR BUILT dan SALE PRICE sebesar 0.063, yang artinya hubungan variabel ini bergerak searah\n",
    "- Untuk variabel dengan korelasi netral tidak mempengaruhi terhadap SALE PRICE"
   ]
  },
  {
   "cell_type": "markdown",
   "id": "b8df7f2c",
   "metadata": {},
   "source": [
    "# Final Data"
   ]
  },
  {
   "cell_type": "code",
   "execution_count": 26,
   "id": "1b9d6440",
   "metadata": {},
   "outputs": [
    {
     "data": {
      "text/html": [
       "<div>\n",
       "<style scoped>\n",
       "    .dataframe tbody tr th:only-of-type {\n",
       "        vertical-align: middle;\n",
       "    }\n",
       "\n",
       "    .dataframe tbody tr th {\n",
       "        vertical-align: top;\n",
       "    }\n",
       "\n",
       "    .dataframe thead th {\n",
       "        text-align: right;\n",
       "    }\n",
       "</style>\n",
       "<table border=\"1\" class=\"dataframe\">\n",
       "  <thead>\n",
       "    <tr style=\"text-align: right;\">\n",
       "      <th></th>\n",
       "      <th>index</th>\n",
       "      <th>BOROUGH</th>\n",
       "      <th>BUILDING CLASS CATEGORY</th>\n",
       "      <th>TAX CLASS AT PRESENT</th>\n",
       "      <th>BUILDING CLASS AT PRESENT</th>\n",
       "      <th>RESIDENTIAL UNITS</th>\n",
       "      <th>COMMERCIAL UNITS</th>\n",
       "      <th>TOTAL UNITS</th>\n",
       "      <th>LAND SQUARE FEET</th>\n",
       "      <th>GROSS SQUARE FEET</th>\n",
       "      <th>YEAR BUILT</th>\n",
       "      <th>TAX CLASS AT TIME OF SALE</th>\n",
       "      <th>BUILDING CLASS AT TIME OF SALE</th>\n",
       "      <th>SALE PRICE</th>\n",
       "      <th>SALE DATE</th>\n",
       "    </tr>\n",
       "  </thead>\n",
       "  <tbody>\n",
       "    <tr>\n",
       "      <th>0</th>\n",
       "      <td>0</td>\n",
       "      <td>1</td>\n",
       "      <td>07 RENTALS - WALKUP APARTMENTS</td>\n",
       "      <td>2A</td>\n",
       "      <td>C2</td>\n",
       "      <td>5</td>\n",
       "      <td>0</td>\n",
       "      <td>5</td>\n",
       "      <td>1633.0</td>\n",
       "      <td>5058.0</td>\n",
       "      <td>1900</td>\n",
       "      <td>2</td>\n",
       "      <td>C2</td>\n",
       "      <td>1954370.0</td>\n",
       "      <td>2017-07-19 00:00:00</td>\n",
       "    </tr>\n",
       "    <tr>\n",
       "      <th>1</th>\n",
       "      <td>3</td>\n",
       "      <td>1</td>\n",
       "      <td>07 RENTALS - WALKUP APARTMENTS</td>\n",
       "      <td>2B</td>\n",
       "      <td>C4</td>\n",
       "      <td>10</td>\n",
       "      <td>0</td>\n",
       "      <td>10</td>\n",
       "      <td>2272.0</td>\n",
       "      <td>5058.0</td>\n",
       "      <td>1913</td>\n",
       "      <td>2</td>\n",
       "      <td>C4</td>\n",
       "      <td>1954370.0</td>\n",
       "      <td>2016-09-23 00:00:00</td>\n",
       "    </tr>\n",
       "    <tr>\n",
       "      <th>2</th>\n",
       "      <td>4</td>\n",
       "      <td>1</td>\n",
       "      <td>07 RENTALS - WALKUP APARTMENTS</td>\n",
       "      <td>2A</td>\n",
       "      <td>C2</td>\n",
       "      <td>6</td>\n",
       "      <td>0</td>\n",
       "      <td>6</td>\n",
       "      <td>2369.0</td>\n",
       "      <td>4615.0</td>\n",
       "      <td>1900</td>\n",
       "      <td>2</td>\n",
       "      <td>C2</td>\n",
       "      <td>1954370.0</td>\n",
       "      <td>2016-11-17 00:00:00</td>\n",
       "    </tr>\n",
       "    <tr>\n",
       "      <th>3</th>\n",
       "      <td>6</td>\n",
       "      <td>1</td>\n",
       "      <td>07 RENTALS - WALKUP APARTMENTS</td>\n",
       "      <td>2B</td>\n",
       "      <td>C4</td>\n",
       "      <td>8</td>\n",
       "      <td>0</td>\n",
       "      <td>8</td>\n",
       "      <td>1750.0</td>\n",
       "      <td>4226.0</td>\n",
       "      <td>1920</td>\n",
       "      <td>2</td>\n",
       "      <td>C4</td>\n",
       "      <td>1954370.0</td>\n",
       "      <td>2016-09-23 00:00:00</td>\n",
       "    </tr>\n",
       "    <tr>\n",
       "      <th>4</th>\n",
       "      <td>9</td>\n",
       "      <td>1</td>\n",
       "      <td>08 RENTALS - ELEVATOR APARTMENTS</td>\n",
       "      <td>2</td>\n",
       "      <td>D9</td>\n",
       "      <td>24</td>\n",
       "      <td>0</td>\n",
       "      <td>24</td>\n",
       "      <td>4489.0</td>\n",
       "      <td>5058.0</td>\n",
       "      <td>1920</td>\n",
       "      <td>2</td>\n",
       "      <td>D9</td>\n",
       "      <td>1954370.0</td>\n",
       "      <td>2016-11-07 00:00:00</td>\n",
       "    </tr>\n",
       "  </tbody>\n",
       "</table>\n",
       "</div>"
      ],
      "text/plain": [
       "   index  BOROUGH                      BUILDING CLASS CATEGORY  \\\n",
       "0      0        1  07 RENTALS - WALKUP APARTMENTS                \n",
       "1      3        1  07 RENTALS - WALKUP APARTMENTS                \n",
       "2      4        1  07 RENTALS - WALKUP APARTMENTS                \n",
       "3      6        1  07 RENTALS - WALKUP APARTMENTS                \n",
       "4      9        1  08 RENTALS - ELEVATOR APARTMENTS              \n",
       "\n",
       "  TAX CLASS AT PRESENT BUILDING CLASS AT PRESENT  RESIDENTIAL UNITS  \\\n",
       "0                   2A                        C2                  5   \n",
       "1                   2B                        C4                 10   \n",
       "2                   2A                        C2                  6   \n",
       "3                   2B                        C4                  8   \n",
       "4                    2                        D9                 24   \n",
       "\n",
       "   COMMERCIAL UNITS  TOTAL UNITS  LAND SQUARE FEET  GROSS SQUARE FEET  \\\n",
       "0                 0            5            1633.0             5058.0   \n",
       "1                 0           10            2272.0             5058.0   \n",
       "2                 0            6            2369.0             4615.0   \n",
       "3                 0            8            1750.0             4226.0   \n",
       "4                 0           24            4489.0             5058.0   \n",
       "\n",
       "   YEAR BUILT TAX CLASS AT TIME OF SALE BUILDING CLASS AT TIME OF SALE  \\\n",
       "0        1900                         2                             C2   \n",
       "1        1913                         2                             C4   \n",
       "2        1900                         2                             C2   \n",
       "3        1920                         2                             C4   \n",
       "4        1920                         2                             D9   \n",
       "\n",
       "   SALE PRICE            SALE DATE  \n",
       "0   1954370.0  2017-07-19 00:00:00  \n",
       "1   1954370.0  2016-09-23 00:00:00  \n",
       "2   1954370.0  2016-11-17 00:00:00  \n",
       "3   1954370.0  2016-09-23 00:00:00  \n",
       "4   1954370.0  2016-11-07 00:00:00  "
      ]
     },
     "execution_count": 26,
     "metadata": {},
     "output_type": "execute_result"
    }
   ],
   "source": [
    "# Mengurutkan indeks sesuai dengan nomor baris\n",
    "df.reset_index(inplace=True)\n",
    "df.head()"
   ]
  },
  {
   "cell_type": "code",
   "execution_count": 27,
   "id": "ba78a2e8",
   "metadata": {},
   "outputs": [
    {
     "data": {
      "text/plain": [
       "(48244, 15)"
      ]
     },
     "execution_count": 27,
     "metadata": {},
     "output_type": "execute_result"
    }
   ],
   "source": [
    "df.shape"
   ]
  },
  {
   "cell_type": "markdown",
   "id": "535e2a9a",
   "metadata": {},
   "source": [
    "# Exploratory Data Analysis"
   ]
  },
  {
   "cell_type": "markdown",
   "id": "b4398177",
   "metadata": {},
   "source": [
    "## Measure of Central Tendency: Mean"
   ]
  },
  {
   "cell_type": "code",
   "execution_count": 28,
   "id": "8dcdc35f",
   "metadata": {},
   "outputs": [
    {
     "data": {
      "text/html": [
       "<div>\n",
       "<style scoped>\n",
       "    .dataframe tbody tr th:only-of-type {\n",
       "        vertical-align: middle;\n",
       "    }\n",
       "\n",
       "    .dataframe tbody tr th {\n",
       "        vertical-align: top;\n",
       "    }\n",
       "\n",
       "    .dataframe thead th {\n",
       "        text-align: right;\n",
       "    }\n",
       "</style>\n",
       "<table border=\"1\" class=\"dataframe\">\n",
       "  <thead>\n",
       "    <tr style=\"text-align: right;\">\n",
       "      <th></th>\n",
       "      <th>LAND SQUARE FEET</th>\n",
       "      <th>GROSS SQUARE FEET</th>\n",
       "      <th>SALE PRICE</th>\n",
       "    </tr>\n",
       "    <tr>\n",
       "      <th>BOROUGH</th>\n",
       "      <th></th>\n",
       "      <th></th>\n",
       "      <th></th>\n",
       "    </tr>\n",
       "  </thead>\n",
       "  <tbody>\n",
       "    <tr>\n",
       "      <th>1</th>\n",
       "      <td>3147.711730</td>\n",
       "      <td>4517.025845</td>\n",
       "      <td>1.638154e+06</td>\n",
       "    </tr>\n",
       "    <tr>\n",
       "      <th>2</th>\n",
       "      <td>2268.330118</td>\n",
       "      <td>1793.215208</td>\n",
       "      <td>3.541924e+05</td>\n",
       "    </tr>\n",
       "    <tr>\n",
       "      <th>3</th>\n",
       "      <td>1594.122510</td>\n",
       "      <td>1607.604774</td>\n",
       "      <td>5.730740e+05</td>\n",
       "    </tr>\n",
       "    <tr>\n",
       "      <th>4</th>\n",
       "      <td>3117.026990</td>\n",
       "      <td>1882.458296</td>\n",
       "      <td>6.947609e+05</td>\n",
       "    </tr>\n",
       "    <tr>\n",
       "      <th>5</th>\n",
       "      <td>3457.277844</td>\n",
       "      <td>1746.697275</td>\n",
       "      <td>5.111832e+05</td>\n",
       "    </tr>\n",
       "  </tbody>\n",
       "</table>\n",
       "</div>"
      ],
      "text/plain": [
       "         LAND SQUARE FEET  GROSS SQUARE FEET    SALE PRICE\n",
       "BOROUGH                                                   \n",
       "1             3147.711730        4517.025845  1.638154e+06\n",
       "2             2268.330118        1793.215208  3.541924e+05\n",
       "3             1594.122510        1607.604774  5.730740e+05\n",
       "4             3117.026990        1882.458296  6.947609e+05\n",
       "5             3457.277844        1746.697275  5.111832e+05"
      ]
     },
     "execution_count": 28,
     "metadata": {},
     "output_type": "execute_result"
    }
   ],
   "source": [
    "df.groupby(['BOROUGH'])[['LAND SQUARE FEET', 'GROSS SQUARE FEET', 'SALE PRICE']].mean()"
   ]
  },
  {
   "cell_type": "markdown",
   "id": "8ad34ee6",
   "metadata": {},
   "source": [
    "Kesimpulan: Output diatas menampilkan nilai rata-rata dari luas dan harga jual properti di masing-masing wilayah yang ada di NYC"
   ]
  },
  {
   "cell_type": "markdown",
   "id": "6f008498",
   "metadata": {},
   "source": [
    "## Measure of Central Tendency: Median"
   ]
  },
  {
   "cell_type": "code",
   "execution_count": 49,
   "id": "82d53764",
   "metadata": {},
   "outputs": [
    {
     "data": {
      "text/html": [
       "<div>\n",
       "<style scoped>\n",
       "    .dataframe tbody tr th:only-of-type {\n",
       "        vertical-align: middle;\n",
       "    }\n",
       "\n",
       "    .dataframe tbody tr th {\n",
       "        vertical-align: top;\n",
       "    }\n",
       "\n",
       "    .dataframe thead th {\n",
       "        text-align: right;\n",
       "    }\n",
       "</style>\n",
       "<table border=\"1\" class=\"dataframe\">\n",
       "  <thead>\n",
       "    <tr style=\"text-align: right;\">\n",
       "      <th></th>\n",
       "      <th>LAND SQUARE FEET</th>\n",
       "      <th>GROSS SQUARE FEET</th>\n",
       "      <th>SALE PRICE</th>\n",
       "    </tr>\n",
       "    <tr>\n",
       "      <th>TAX CLASS AT PRESENT</th>\n",
       "      <th></th>\n",
       "      <th></th>\n",
       "      <th></th>\n",
       "    </tr>\n",
       "  </thead>\n",
       "  <tbody>\n",
       "    <tr>\n",
       "      <th></th>\n",
       "      <td>0.0</td>\n",
       "      <td>0.0</td>\n",
       "      <td>699125.0</td>\n",
       "    </tr>\n",
       "    <tr>\n",
       "      <th>1</th>\n",
       "      <td>2496.0</td>\n",
       "      <td>1824.0</td>\n",
       "      <td>497250.0</td>\n",
       "    </tr>\n",
       "    <tr>\n",
       "      <th>1A</th>\n",
       "      <td>0.0</td>\n",
       "      <td>0.0</td>\n",
       "      <td>342500.0</td>\n",
       "    </tr>\n",
       "    <tr>\n",
       "      <th>1B</th>\n",
       "      <td>2492.0</td>\n",
       "      <td>0.0</td>\n",
       "      <td>0.0</td>\n",
       "    </tr>\n",
       "    <tr>\n",
       "      <th>1C</th>\n",
       "      <td>0.0</td>\n",
       "      <td>0.0</td>\n",
       "      <td>782071.5</td>\n",
       "    </tr>\n",
       "    <tr>\n",
       "      <th>2</th>\n",
       "      <td>0.0</td>\n",
       "      <td>0.0</td>\n",
       "      <td>400000.0</td>\n",
       "    </tr>\n",
       "    <tr>\n",
       "      <th>2A</th>\n",
       "      <td>2500.0</td>\n",
       "      <td>3663.5</td>\n",
       "      <td>575000.0</td>\n",
       "    </tr>\n",
       "    <tr>\n",
       "      <th>2B</th>\n",
       "      <td>2500.0</td>\n",
       "      <td>5058.0</td>\n",
       "      <td>1100000.0</td>\n",
       "    </tr>\n",
       "    <tr>\n",
       "      <th>2C</th>\n",
       "      <td>0.0</td>\n",
       "      <td>0.0</td>\n",
       "      <td>700000.0</td>\n",
       "    </tr>\n",
       "    <tr>\n",
       "      <th>3</th>\n",
       "      <td>0.0</td>\n",
       "      <td>0.0</td>\n",
       "      <td>0.0</td>\n",
       "    </tr>\n",
       "    <tr>\n",
       "      <th>4</th>\n",
       "      <td>2500.0</td>\n",
       "      <td>1976.0</td>\n",
       "      <td>45000.0</td>\n",
       "    </tr>\n",
       "  </tbody>\n",
       "</table>\n",
       "</div>"
      ],
      "text/plain": [
       "                      LAND SQUARE FEET  GROSS SQUARE FEET  SALE PRICE\n",
       "TAX CLASS AT PRESENT                                                 \n",
       "                                   0.0                0.0    699125.0\n",
       "1                               2496.0             1824.0    497250.0\n",
       "1A                                 0.0                0.0    342500.0\n",
       "1B                              2492.0                0.0         0.0\n",
       "1C                                 0.0                0.0    782071.5\n",
       "2                                  0.0                0.0    400000.0\n",
       "2A                              2500.0             3663.5    575000.0\n",
       "2B                              2500.0             5058.0   1100000.0\n",
       "2C                                 0.0                0.0    700000.0\n",
       "3                                  0.0                0.0         0.0\n",
       "4                               2500.0             1976.0     45000.0"
      ]
     },
     "execution_count": 49,
     "metadata": {},
     "output_type": "execute_result"
    }
   ],
   "source": [
    "df.groupby(['TAX CLASS AT PRESENT'])[['LAND SQUARE FEET', 'GROSS SQUARE FEET', 'SALE PRICE']].median()"
   ]
  },
  {
   "cell_type": "markdown",
   "id": "80b1b815",
   "metadata": {},
   "source": [
    "Kesimpulan: Output diatas menampilkan nilai tengah pada Kolom Luas dan harga properti berdasarkan KELAS PAJAK SAAT INI"
   ]
  },
  {
   "cell_type": "markdown",
   "id": "ea4bc72f",
   "metadata": {},
   "source": [
    "## Measure of Central Tendency: Modus"
   ]
  },
  {
   "cell_type": "code",
   "execution_count": 54,
   "id": "7a0be372",
   "metadata": {},
   "outputs": [
    {
     "name": "stdout",
     "output_type": "stream",
     "text": [
      "Mode YEAR BUILT :  1920\n"
     ]
    }
   ],
   "source": [
    "print('Mode YEAR BUILT : ', df['YEAR BUILT'].mode()[0])"
   ]
  },
  {
   "cell_type": "markdown",
   "id": "488089fe",
   "metadata": {},
   "source": [
    "Kesimpulan: Output diatas menampilkan nilai yang sering muncul pada kolom YEAR BUILT, yaitu tahun 1920"
   ]
  },
  {
   "cell_type": "markdown",
   "id": "a8d1aed8",
   "metadata": {},
   "source": [
    "## Measure of Spread: Range"
   ]
  },
  {
   "cell_type": "code",
   "execution_count": 69,
   "id": "b8a2b6aa",
   "metadata": {},
   "outputs": [
    {
     "data": {
      "text/plain": [
       "1954370.0"
      ]
     },
     "execution_count": 69,
     "metadata": {},
     "output_type": "execute_result"
    }
   ],
   "source": [
    "range = np.ptp(df['SALE PRICE'])\n",
    "range"
   ]
  },
  {
   "cell_type": "markdown",
   "id": "ed1075bf",
   "metadata": {},
   "source": [
    "Kesimpulan: Output diatas menampilkan jarak nilai tertinggi dan terendah pada kolom SALE PRICE adalah 1954370.0"
   ]
  },
  {
   "cell_type": "markdown",
   "id": "2d5e5907",
   "metadata": {},
   "source": [
    "## Measure of Spread: Variance"
   ]
  },
  {
   "cell_type": "code",
   "execution_count": 66,
   "id": "00e2a2c5",
   "metadata": {},
   "outputs": [
    {
     "data": {
      "text/plain": [
       "2655214.1762699005"
      ]
     },
     "execution_count": 66,
     "metadata": {},
     "output_type": "execute_result"
    }
   ],
   "source": [
    "vr = statistics.variance(df['LAND SQUARE FEET'])\n",
    "vr"
   ]
  },
  {
   "cell_type": "markdown",
   "id": "5e074500",
   "metadata": {},
   "source": [
    "Kesimpulan: Output diatas menampilkan nilai varian atau rata-rata dari semua nilai di LAND SQUARE FEET."
   ]
  },
  {
   "cell_type": "markdown",
   "id": "9388d9dd",
   "metadata": {},
   "source": [
    "## Measure of Spread: Standard Deviation"
   ]
  },
  {
   "cell_type": "code",
   "execution_count": 70,
   "id": "79ed0585",
   "metadata": {},
   "outputs": [
    {
     "data": {
      "text/plain": [
       "556056.6457734518"
      ]
     },
     "execution_count": 70,
     "metadata": {},
     "output_type": "execute_result"
    }
   ],
   "source": [
    "sd = np.std(df[\"SALE PRICE\"], ddof=1)\n",
    "sd"
   ]
  },
  {
   "cell_type": "markdown",
   "id": "5e77c0eb",
   "metadata": {},
   "source": [
    "Kesimpulan: Output diatas menampilkan satndar deviation dari kolom SALE PRICE."
   ]
  },
  {
   "cell_type": "markdown",
   "id": "b0b447b1",
   "metadata": {},
   "source": [
    "##  Skewness"
   ]
  },
  {
   "cell_type": "code",
   "execution_count": 72,
   "id": "4d94d17a",
   "metadata": {},
   "outputs": [
    {
     "data": {
      "text/plain": [
       "0.6410198033156355"
      ]
     },
     "execution_count": 72,
     "metadata": {},
     "output_type": "execute_result"
    }
   ],
   "source": [
    "sw = scipy.stats.skew(df['GROSS SQUARE FEET'], bias=False)\n",
    "sw"
   ]
  },
  {
   "cell_type": "markdown",
   "id": "0c1bfc48",
   "metadata": {},
   "source": [
    "## Percentiles"
   ]
  },
  {
   "cell_type": "code",
   "execution_count": null,
   "id": "c238888e",
   "metadata": {},
   "outputs": [],
   "source": [
    "print('Q1 of SALE PRICE: ', np.quantile(df['SALE PRICE'], 0.25))\n",
    "print('Q2 of SALE PRICE: ', np.quantile(df['SALE PRICE'], 0.5))\n",
    "print('Q3 of SALE PRICE: ', np.quantile(df['SALE PRICE'], 0.75))"
   ]
  },
  {
   "cell_type": "code",
   "execution_count": 74,
   "id": "f7a2ed55",
   "metadata": {},
   "outputs": [
    {
     "data": {
      "text/plain": [
       "80420.0"
      ]
     },
     "execution_count": 74,
     "metadata": {},
     "output_type": "execute_result"
    }
   ],
   "source": [
    "np.quantile(df['SALE PRICE'], 0.25)"
   ]
  },
  {
   "cell_type": "code",
   "execution_count": 80,
   "id": "1f2aae1c",
   "metadata": {},
   "outputs": [
    {
     "name": "stdout",
     "output_type": "stream",
     "text": [
      "80420.0 480000.0 830000.0\n"
     ]
    }
   ],
   "source": [
    "Q1 = np.quantile(df['SALE PRICE'], 0.25)\n",
    "Q2 = np.quantile(df['SALE PRICE'], 0.50)\n",
    "Q3 = np.quantile(df['SALE PRICE'], 0.75)\n",
    "print (Q1, Q2, Q3)"
   ]
  },
  {
   "cell_type": "markdown",
   "id": "fcce345e",
   "metadata": {},
   "source": [
    "Kesimpulan: Output diatas menampilkan nilai persentil kolom SALE PRICE"
   ]
  },
  {
   "cell_type": "markdown",
   "id": "ded6a327",
   "metadata": {},
   "source": [
    "## Confidence Intervals"
   ]
  },
  {
   "cell_type": "code",
   "execution_count": 83,
   "id": "b795bd9b",
   "metadata": {},
   "outputs": [
    {
     "data": {
      "text/html": [
       "<div>\n",
       "<style scoped>\n",
       "    .dataframe tbody tr th:only-of-type {\n",
       "        vertical-align: middle;\n",
       "    }\n",
       "\n",
       "    .dataframe tbody tr th {\n",
       "        vertical-align: top;\n",
       "    }\n",
       "\n",
       "    .dataframe thead tr th {\n",
       "        text-align: left;\n",
       "    }\n",
       "\n",
       "    .dataframe thead tr:last-of-type th {\n",
       "        text-align: right;\n",
       "    }\n",
       "</style>\n",
       "<table border=\"1\" class=\"dataframe\">\n",
       "  <thead>\n",
       "    <tr>\n",
       "      <th></th>\n",
       "      <th colspan=\"3\" halign=\"left\">SALE PRICE</th>\n",
       "    </tr>\n",
       "    <tr>\n",
       "      <th></th>\n",
       "      <th>mean</th>\n",
       "      <th>std</th>\n",
       "      <th>size</th>\n",
       "    </tr>\n",
       "    <tr>\n",
       "      <th>BOROUGH</th>\n",
       "      <th></th>\n",
       "      <th></th>\n",
       "      <th></th>\n",
       "    </tr>\n",
       "  </thead>\n",
       "  <tbody>\n",
       "    <tr>\n",
       "      <th>1</th>\n",
       "      <td>1638153.54</td>\n",
       "      <td>656827.27</td>\n",
       "      <td>1006</td>\n",
       "    </tr>\n",
       "    <tr>\n",
       "      <th>2</th>\n",
       "      <td>354192.37</td>\n",
       "      <td>430737.85</td>\n",
       "      <td>7049</td>\n",
       "    </tr>\n",
       "    <tr>\n",
       "      <th>3</th>\n",
       "      <td>573074.05</td>\n",
       "      <td>622812.42</td>\n",
       "      <td>24047</td>\n",
       "    </tr>\n",
       "    <tr>\n",
       "      <th>4</th>\n",
       "      <td>694760.87</td>\n",
       "      <td>408837.19</td>\n",
       "      <td>11078</td>\n",
       "    </tr>\n",
       "    <tr>\n",
       "      <th>5</th>\n",
       "      <td>511183.19</td>\n",
       "      <td>259466.00</td>\n",
       "      <td>5064</td>\n",
       "    </tr>\n",
       "  </tbody>\n",
       "</table>\n",
       "</div>"
      ],
      "text/plain": [
       "        SALE PRICE                 \n",
       "              mean       std   size\n",
       "BOROUGH                            \n",
       "1       1638153.54 656827.27   1006\n",
       "2        354192.37 430737.85   7049\n",
       "3        573074.05 622812.42  24047\n",
       "4        694760.87 408837.19  11078\n",
       "5        511183.19 259466.00   5064"
      ]
     },
     "execution_count": 83,
     "metadata": {},
     "output_type": "execute_result"
    }
   ],
   "source": [
    "confidence_intervals=df.groupby(\"BOROUGH\").agg({\"SALE PRICE\": [np.mean, np.std, np.size]})\n",
    "pd.options.display.float_format = \"{:.2f}\".format\n",
    "confidence_intervals"
   ]
  },
  {
   "cell_type": "code",
   "execution_count": 84,
   "id": "98fe1c24",
   "metadata": {},
   "outputs": [],
   "source": [
    "mean_sp_queens = confidence_intervals.iloc[3,0]\n",
    "sd = confidence_intervals.iloc [3,1]\n",
    "n = confidence_intervals.iloc [3,2]         \n",
    "z = 1.96 #z-score untuk confidence level 95%"
   ]
  },
  {
   "cell_type": "code",
   "execution_count": 85,
   "id": "629784ce",
   "metadata": {},
   "outputs": [],
   "source": [
    "se = sd / np.sqrt(n)"
   ]
  },
  {
   "cell_type": "code",
   "execution_count": 86,
   "id": "6cf6e61f",
   "metadata": {},
   "outputs": [],
   "source": [
    "lcb = mean_sp_queens - z * se\n",
    "ucb = mean_sp_queens + z * se"
   ]
  },
  {
   "cell_type": "code",
   "execution_count": 88,
   "id": "13f8855a",
   "metadata": {},
   "outputs": [
    {
     "name": "stdout",
     "output_type": "stream",
     "text": [
      "Rata-rata sebenarnya dari sale price di wilayah Queens akan jatuh antara 687147.5251102477 dan 702374.2246640798\n"
     ]
    }
   ],
   "source": [
    "print(f\"Rata-rata sebenarnya dari sale price di wilayah Queens akan jatuh antara {lcb} dan {ucb}\")"
   ]
  },
  {
   "cell_type": "markdown",
   "id": "4aae0724",
   "metadata": {},
   "source": [
    "Kesimpulan: Output diatas menampilkan nilai rata-rata SALE PRICE di wilayah Queens"
   ]
  },
  {
   "cell_type": "markdown",
   "id": "4c39020c",
   "metadata": {},
   "source": [
    "# Hypothesis Testing"
   ]
  },
  {
   "cell_type": "code",
   "execution_count": 91,
   "id": "854725b6",
   "metadata": {},
   "outputs": [
    {
     "name": "stdout",
     "output_type": "stream",
     "text": [
      "stat=6368.903940, p=0.000\n",
      "Probably not Gaussian\n"
     ]
    }
   ],
   "source": [
    "from scipy.stats import normaltest\n",
    "data = df[\"SALE PRICE\"]\n",
    "stat, p = normaltest(data)\n",
    "print('stat=%3f, p=%.3f' % (stat, p))\n",
    "if p > 0.05:\n",
    "    print('Probably Gaussian')\n",
    "else:\n",
    "    print('Probably not Gaussian')"
   ]
  },
  {
   "cell_type": "markdown",
   "id": "0504e7b5",
   "metadata": {},
   "source": [
    "Berdasarkan pengujian hipotesis, didapatkan p-value < 0.05 sehingga sampel tidak berdistribusi Gaussian."
   ]
  },
  {
   "cell_type": "markdown",
   "id": "30e7da9e",
   "metadata": {},
   "source": [
    "# Overall Analysis\t"
   ]
  },
  {
   "cell_type": "markdown",
   "id": "ff87a596",
   "metadata": {},
   "source": [
    "### Keseimpulan\n",
    "Berdasarkan keseluruhan anallisis, maka dapat disimpulkan:\n",
    "- Tahun 1920 merupakan tahun dimana properti NYC banyak dibangun.\n",
    "- Rata-rata harga penjualan properti di NYC berkisar di antara 798.482 USD sampai 813.976 USD dengan ukuran luas lahan seluruhnya berkisar di antara 2383.68 square feet sampai degan 2988.93 square feet.\n",
    "- Harga penjualan properti di NYC juga memiliki nilai varians dan standar deviasi yang sangat besar, ini berarti harga penjualan properti di NYC sangat bervariasi.\n",
    "- Wilayah mempengaruhi harga penjualan properti. Di mana wilayah Manhattan adalah wilayah dengan rata-rata harga penjualan tertinggi dan memiliki nilai varians tertinggi juga."
   ]
  }
 ],
 "metadata": {
  "kernelspec": {
   "display_name": "Python 3 (ipykernel)",
   "language": "python",
   "name": "python3"
  },
  "language_info": {
   "codemirror_mode": {
    "name": "ipython",
    "version": 3
   },
   "file_extension": ".py",
   "mimetype": "text/x-python",
   "name": "python",
   "nbconvert_exporter": "python",
   "pygments_lexer": "ipython3",
   "version": "3.9.12"
  }
 },
 "nbformat": 4,
 "nbformat_minor": 5
}
